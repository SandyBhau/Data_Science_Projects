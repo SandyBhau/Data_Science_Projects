{
 "cells": [
  {
   "cell_type": "code",
   "execution_count": 1,
   "metadata": {},
   "outputs": [],
   "source": [
    "# --------------------------------------------------------------\n",
    "# Create the Autocorrelation Plot and create time-lagged dataset\n",
    "# --------------------------------------------------------------\n",
    "\n",
    "# Import Libraries\n",
    "import pandas as pd\n",
    "import matplotlib.pyplot as plt"
   ]
  },
  {
   "cell_type": "code",
   "execution_count": 2,
   "metadata": {},
   "outputs": [],
   "source": [
    "# Read the corr.csv file\n",
    "f = pd.read_csv('03 - corr.csv')"
   ]
  },
  {
   "cell_type": "code",
   "execution_count": 3,
   "metadata": {},
   "outputs": [],
   "source": [
    "# Convert the datatype of the variable to float\n",
    "f['t0'] = pd.to_numeric(f['t0'], downcast='float')"
   ]
  },
  {
   "cell_type": "code",
   "execution_count": 4,
   "metadata": {},
   "outputs": [
    {
     "data": {
      "text/plain": [
       "(array([-10,  -9,  -8,  -7,  -6,  -5,  -4,  -3,  -2,  -1,   0,   1,   2,\n",
       "          3,   4,   5,   6,   7,   8,   9,  10]),\n",
       " array([0.18266407, 0.24523169, 0.3102569 , 0.37862065, 0.4524715 ,\n",
       "        0.5446227 , 0.65713006, 0.7718786 , 0.879378  , 0.96169895,\n",
       "        1.        , 0.96169895, 0.879378  , 0.7718786 , 0.65713006,\n",
       "        0.5446227 , 0.4524715 , 0.37862065, 0.3102569 , 0.24523169,\n",
       "        0.18266407], dtype=float32),\n",
       " <matplotlib.collections.LineCollection at 0x1872f8f02b0>,\n",
       " <matplotlib.lines.Line2D at 0x1872f8f0b00>)"
      ]
     },
     "execution_count": 4,
     "metadata": {},
     "output_type": "execute_result"
    },
    {
     "data": {
      "image/png": "[encoded data removed]",
      "text/plain": [
       "<Figure size 432x288 with 1 Axes>"
      ]
     },
     "metadata": {
      "needs_background": "light"
     },
     "output_type": "display_data"
    }
   ],
   "source": [
    "# Plot the autocorrelation plot\n",
    "plt.acorr(f['t0'], maxlags=10)"
   ]
  },
  {
   "cell_type": "code",
   "execution_count": 5,
   "metadata": {},
   "outputs": [],
   "source": [
    "# Create the time-lagged dataset and concatenate the results\n",
    "t_1 = f['t0'].shift(+1).to_frame()\n",
    "t_1.columns = ['t-1']\n",
    "\n",
    "t_2 = f['t0'].shift(+2).to_frame()\n",
    "t_2.columns = ['t-2']\n",
    "\n",
    "result = pd.concat([f['t0'], t_1, t_2], axis=1)"
   ]
  },
  {
   "cell_type": "code",
   "execution_count": null,
   "metadata": {},
   "outputs": [],
   "source": []
  }
 ],
 "metadata": {
  "anaconda-cloud": {},
  "kernelspec": {
   "display_name": "Python 3",
   "language": "python",
   "name": "python3"
  },
  "language_info": {
   "codemirror_mode": {
    "name": "ipython",
    "version": 3
   },
   "file_extension": ".py",
   "mimetype": "text/x-python",
   "name": "python",
   "nbconvert_exporter": "python",
   "pygments_lexer": "ipython3",
   "version": "3.7.3"
  }
 },
 "nbformat": 4,
 "nbformat_minor": 1
}
