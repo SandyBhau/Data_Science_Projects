{
 "cells": [
  {
   "cell_type": "code",
   "execution_count": 1,
   "metadata": {},
   "outputs": [],
   "source": [
    "# --------------------------------------------------------\n",
    "# Apply Feature Selection with F-Test on Linear Regression\n",
    "# Compare the result with selected features\n",
    "# --------------------------------------------------------\n",
    "\n",
    "# Import libraries\n",
    "import pandas as pd"
   ]
  },
  {
   "cell_type": "code",
   "execution_count": 2,
   "metadata": {},
   "outputs": [],
   "source": [
    "# Read the file\n",
    "f = pd.read_csv('Students2.csv')"
   ]
  },
  {
   "cell_type": "code",
   "execution_count": 3,
   "metadata": {},
   "outputs": [],
   "source": [
    "# Split the columns into Dependent (Y) and independent (X) features\n",
    "x = f.iloc[:,:-1]\n",
    "y = f.iloc[:, -1]"
   ]
  },
  {
   "cell_type": "code",
   "execution_count": 4,
   "metadata": {},
   "outputs": [],
   "source": [
    "# Perform Linear Regression using original dataset\n",
    "from sklearn.linear_model import LinearRegression\n",
    "\n",
    "lr = LinearRegression()"
   ]
  },
  {
   "cell_type": "code",
   "execution_count": 5,
   "metadata": {},
   "outputs": [],
   "source": [
    "# Split the data\n",
    "from sklearn.model_selection import train_test_split\n",
    "X_train, X_test, Y_train, Y_test = \\\n",
    "train_test_split(x, y, test_size = 0.4, random_state = 1234)\n",
    "\n",
    "lr.fit(X_train, Y_train)\n",
    "\n",
    "y_predict = lr.predict(X_test)"
   ]
  },
  {
   "cell_type": "code",
   "execution_count": 6,
   "metadata": {},
   "outputs": [],
   "source": [
    "# Calculate the RMSE error for the regression\n",
    "from sklearn.metrics import mean_squared_error\n",
    "import math\n",
    "\n",
    "rmse = math.sqrt(mean_squared_error(Y_test, y_predict))"
   ]
  },
  {
   "cell_type": "code",
   "execution_count": 7,
   "metadata": {},
   "outputs": [],
   "source": [
    "# import and perform the f_regression to get the F-Score and P-Values\n",
    "from sklearn.feature_selection import f_regression as fr\n",
    "result = fr(x,y)"
   ]
  },
  {
   "cell_type": "code",
   "execution_count": 8,
   "metadata": {},
   "outputs": [],
   "source": [
    "# Split the result tuple into F_Score and P_Values\n",
    "f_score = result[0]\n",
    "p_values = result[1]"
   ]
  },
  {
   "cell_type": "code",
   "execution_count": 9,
   "metadata": {},
   "outputs": [
    {
     "name": "stdout",
     "output_type": "stream",
     "text": [
      " \n",
      " \n",
      " \n",
      "    Features      F-Score     P-Values\n",
      "    -----------  ---------    ---------\n",
      "     Hours          141.91      0.000000\n",
      "     sHours           4.57      0.041403\n",
      "     hoursplayed      0.00      0.969907\n",
      "     income           0.16      0.692200\n",
      "     distance         0.00      0.955528\n",
      "     calories         0.40      0.530086\n"
     ]
    }
   ],
   "source": [
    "# Print the table of Features, F-Score and P-values\n",
    "columns = list(x.columns)\n",
    "\n",
    "print (\" \")\n",
    "print (\" \")\n",
    "print (\" \")\n",
    "\n",
    "print (\"    Features     \", \"F-Score    \", \"P-Values\")\n",
    "print (\"    -----------  ---------    ---------\")\n",
    "\n",
    "for i in range(0, len(columns)):\n",
    "    f1 = \"%4.2f\" % f_score[i]\n",
    "    p1 = \"%2.6f\" % p_values[i]\n",
    "    print(\"    \", columns[i].ljust(12), f1.rjust(8),\"    \", p1.rjust(8))"
   ]
  },
  {
   "cell_type": "code",
   "execution_count": 10,
   "metadata": {},
   "outputs": [],
   "source": [
    "# Perform the Linear Regression with reduced features\n",
    "X_train_n = X_train[['Hours', 'sHours']]\n",
    "X_test_n = X_test[['Hours', 'sHours']]\n",
    "\n",
    "lr1 = LinearRegression()\n",
    "lr1.fit(X_train_n, Y_train)\n",
    "\n",
    "y_predict_n = lr1.predict(X_test_n)"
   ]
  },
  {
   "cell_type": "code",
   "execution_count": 11,
   "metadata": {},
   "outputs": [],
   "source": [
    "# Calculate the RMSE with reduced features\n",
    "rmse_n = math.sqrt(mean_squared_error(Y_test, y_predict_n))"
   ]
  },
  {
   "cell_type": "code",
   "execution_count": null,
   "metadata": {},
   "outputs": [],
   "source": []
  }
 ],
 "metadata": {
  "anaconda-cloud": {},
  "kernelspec": {
   "display_name": "Python 3",
   "language": "python",
   "name": "python3"
  },
  "language_info": {
   "codemirror_mode": {
    "name": "ipython",
    "version": 3
   },
   "file_extension": ".py",
   "mimetype": "text/x-python",
   "name": "python",
   "nbconvert_exporter": "python",
   "pygments_lexer": "ipython3",
   "version": "3.7.3"
  }
 },
 "nbformat": 4,
 "nbformat_minor": 1
}
