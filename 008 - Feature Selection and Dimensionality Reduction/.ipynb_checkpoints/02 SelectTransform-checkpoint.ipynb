{
 "cells": [
  {
   "cell_type": "code",
   "execution_count": 1,
   "metadata": {},
   "outputs": [],
   "source": [
    "# ----------------------------------------------------------------\n",
    "# Implement various feature selection, Select Transforms\n",
    "# ----------------------------------------------------------------\n",
    "\n",
    "# Import pandas, read the file and split into X and Y\n",
    "import pandas as pd\n",
    "f = pd.read_csv('Students2.csv')\n",
    "X = f.iloc[:, :-1]\n",
    "Y = f.iloc[:,  -1]"
   ]
  },
  {
   "cell_type": "code",
   "execution_count": 2,
   "metadata": {},
   "outputs": [],
   "source": [
    "# Import various select transforms along with the f_regression mode\n",
    "from sklearn.feature_selection import SelectKBest,             \\\n",
    "                                      SelectPercentile,        \\\n",
    "                                      GenericUnivariateSelect, \\\n",
    "                                      f_regression"
   ]
  },
  {
   "cell_type": "code",
   "execution_count": 3,
   "metadata": {},
   "outputs": [],
   "source": [
    "# Implement and print SelectKBest\n",
    "selectorK = SelectKBest(score_func=f_regression, k=3)\n",
    "x_k = selectorK.fit_transform(X, Y)"
   ]
  },
  {
   "cell_type": "code",
   "execution_count": 4,
   "metadata": {},
   "outputs": [],
   "source": [
    "# Get f_score and p_values for the selected features\n",
    "f_score = selectorK.scores_\n",
    "p_values = selectorK.pvalues_"
   ]
  },
  {
   "cell_type": "code",
   "execution_count": 5,
   "metadata": {},
   "outputs": [
    {
     "name": "stdout",
     "output_type": "stream",
     "text": [
      " \n",
      " \n",
      " \n",
      "    Features      F-Score     P-Values\n",
      "    -----------  ---------    ---------\n",
      "     Hours          141.91      0.000000\n",
      "     sHours           4.57      0.041403\n",
      "     hoursplayed      0.00      0.969907\n",
      "     income           0.16      0.692200\n",
      "     distance         0.00      0.955528\n",
      "     calories         0.40      0.530086\n",
      "['Hours', 'sHours', 'calories']\n"
     ]
    }
   ],
   "source": [
    "# Print the f_score and p_values\n",
    "# Print the table of Features, F-Score and P-values\n",
    "columns = list(X.columns)\n",
    "\n",
    "print (\" \")\n",
    "print (\" \")\n",
    "print (\" \")\n",
    "\n",
    "print (\"    Features     \", \"F-Score    \", \"P-Values\")\n",
    "print (\"    -----------  ---------    ---------\")\n",
    "\n",
    "for i in range(0, len(columns)):\n",
    "    f1 = \"%4.2f\" % f_score[i]\n",
    "    p1 = \"%2.6f\" % p_values[i]\n",
    "    print(\"    \", columns[i].ljust(12), f1.rjust(8),\"    \", p1.rjust(8))\n",
    "\n",
    "cols = selectorK.get_support(indices=True)\n",
    "selectedCols = X.columns[cols].to_list()\n",
    "\n",
    "print(selectedCols)"
   ]
  },
  {
   "cell_type": "code",
   "execution_count": 6,
   "metadata": {},
   "outputs": [],
   "source": [
    "# Implement SelectPercentile\n",
    "selectorP = SelectPercentile(score_func=f_regression, percentile=50)\n",
    "x_p = selectorP.fit_transform(X, Y)"
   ]
  },
  {
   "cell_type": "code",
   "execution_count": 7,
   "metadata": {},
   "outputs": [],
   "source": [
    "# Implement GenericUnivariateSelect with k_best\n",
    "selectorG1 = GenericUnivariateSelect(score_func=f_regression,\n",
    "                                     mode='k_best',\n",
    "                                     param=3)\n",
    "x_g1 = selectorG1.fit_transform(X,Y)"
   ]
  },
  {
   "cell_type": "code",
   "execution_count": 8,
   "metadata": {},
   "outputs": [],
   "source": [
    "# Implement GenericUnivariateSelect with percentile\n",
    "selectorG2 = GenericUnivariateSelect(score_func=f_regression,\n",
    "                                     mode='percentile',\n",
    "                                     param=50)\n",
    "x_g2 = selectorG2.fit_transform(X,Y)"
   ]
  },
  {
   "cell_type": "code",
   "execution_count": null,
   "metadata": {},
   "outputs": [],
   "source": []
  }
 ],
 "metadata": {
  "anaconda-cloud": {},
  "kernelspec": {
   "display_name": "Python 3",
   "language": "python",
   "name": "python3"
  },
  "language_info": {
   "codemirror_mode": {
    "name": "ipython",
    "version": 3
   },
   "file_extension": ".py",
   "mimetype": "text/x-python",
   "name": "python",
   "nbconvert_exporter": "python",
   "pygments_lexer": "ipython3",
   "version": "3.7.3"
  }
 },
 "nbformat": 4,
 "nbformat_minor": 1
}
