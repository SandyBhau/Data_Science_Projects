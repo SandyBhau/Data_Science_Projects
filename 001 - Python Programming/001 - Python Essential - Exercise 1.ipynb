{
 "cells": [
  {
   "cell_type": "code",
   "execution_count": 9,
   "metadata": {},
   "outputs": [],
   "source": [
    "# -------------------------------------------------------\n",
    "# Exercise to print the Average Temperature per city\n",
    "# -------------------------------------------------------\n",
    "#\n",
    "\n",
    "# Open the file\n",
    "cityTemp = open(\"citytemp.csv\")"
   ]
  },
  {
   "cell_type": "code",
   "execution_count": 10,
   "metadata": {},
   "outputs": [],
   "source": [
    "# Read the first record and split into variables\n",
    "rec1 = cityTemp.readline()\n",
    "city, temperature, unit = rec1.split(',')\n",
    "prev_city = city"
   ]
  },
  {
   "cell_type": "code",
   "execution_count": 11,
   "metadata": {},
   "outputs": [],
   "source": [
    "# Position the pointer to the first record\n",
    "cityTemp.seek(0)\n",
    "\n",
    "# Initialise the variables\n",
    "tempSum = 0.0\n",
    "count = 0\n",
    "averageTemp = 0.0"
   ]
  },
  {
   "cell_type": "code",
   "execution_count": 12,
   "metadata": {},
   "outputs": [
    {
     "name": "stdout",
     "output_type": "stream",
     "text": [
      "Chicago  78.22\n",
      "San Francisco  57.43\n",
      "London  59.77\n",
      "Delhi  77.0\n",
      "Sydney  79.17\n"
     ]
    }
   ],
   "source": [
    "# Run the loop to read all the records and do the processing\n",
    "for records in cityTemp:\n",
    "    records = records.rstrip('\\n')\n",
    "    city, temperature, unit = records.split(',')\n",
    "    \n",
    "    if unit == \"C\":\n",
    "        temperature = (float(temperature) * 9/5) + 32\n",
    "\n",
    "    if city != prev_city:\n",
    "        averageTemp = tempSum/count\n",
    "        print(prev_city + \"  \" + str(round(averageTemp,2)))\n",
    "        prev_city = city\n",
    "        tempSum = 0.0\n",
    "        count = 0\n",
    "        averageTemp = 0.0\n",
    "    tempSum = tempSum + float(temperature)\n",
    "    count = count + 1\n",
    "else:\n",
    "    averageTemp = tempSum/count\n",
    "    print(prev_city + \"  \" + str(round(averageTemp,2)))"
   ]
  },
  {
   "cell_type": "code",
   "execution_count": null,
   "metadata": {},
   "outputs": [],
   "source": []
  }
 ],
 "metadata": {
  "anaconda-cloud": {},
  "kernelspec": {
   "display_name": "Python 3",
   "language": "python",
   "name": "python3"
  },
  "language_info": {
   "codemirror_mode": {
    "name": "ipython",
    "version": 3
   },
   "file_extension": ".py",
   "mimetype": "text/x-python",
   "name": "python",
   "nbconvert_exporter": "python",
   "pygments_lexer": "ipython3",
   "version": "3.7.3"
  }
 },
 "nbformat": 4,
 "nbformat_minor": 1
}
