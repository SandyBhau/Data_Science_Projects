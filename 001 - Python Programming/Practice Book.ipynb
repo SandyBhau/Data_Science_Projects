{
 "cells": [
  {
   "cell_type": "code",
   "execution_count": 1,
   "id": "644b28fc",
   "metadata": {},
   "outputs": [
    {
     "name": "stdout",
     "output_type": "stream",
     "text": [
      "1\n",
      "<function f at 0x00000254793C6EE0>\n"
     ]
    }
   ],
   "source": [
    "x = 1\n",
    "def f():\n",
    "    return x\n",
    "print(x)\n",
    "print(f)"
   ]
  },
  {
   "cell_type": "code",
   "execution_count": 3,
   "id": "91077b09",
   "metadata": {},
   "outputs": [
    {
     "ename": "NameError",
     "evalue": "name 'c' is not defined",
     "output_type": "error",
     "traceback": [
      "\u001b[1;31m---------------------------------------------------------------------------\u001b[0m",
      "\u001b[1;31mNameError\u001b[0m                                 Traceback (most recent call last)",
      "\u001b[1;32m~\\AppData\\Local\\Temp\\ipykernel_32524\\611610096.py\u001b[0m in \u001b[0;36m<module>\u001b[1;34m\u001b[0m\n\u001b[0;32m      1\u001b[0m \u001b[0ma\u001b[0m\u001b[1;33m,\u001b[0m \u001b[0mb\u001b[0m \u001b[1;33m=\u001b[0m \u001b[1;36m2\u001b[0m\u001b[1;33m,\u001b[0m \u001b[1;36m3\u001b[0m\u001b[1;33m\u001b[0m\u001b[1;33m\u001b[0m\u001b[0m\n\u001b[1;32m----> 2\u001b[1;33m \u001b[0mc\u001b[0m\u001b[1;33m,\u001b[0m \u001b[0mb\u001b[0m \u001b[1;33m=\u001b[0m \u001b[0ma\u001b[0m\u001b[1;33m,\u001b[0m \u001b[0mc\u001b[0m \u001b[1;33m+\u001b[0m \u001b[1;36m1\u001b[0m\u001b[1;33m\u001b[0m\u001b[1;33m\u001b[0m\u001b[0m\n\u001b[0m\u001b[0;32m      3\u001b[0m \u001b[0mprint\u001b[0m\u001b[1;33m(\u001b[0m\u001b[0ma\u001b[0m\u001b[1;33m,\u001b[0m\u001b[0mb\u001b[0m\u001b[1;33m,\u001b[0m\u001b[0mc\u001b[0m\u001b[1;33m)\u001b[0m\u001b[1;33m\u001b[0m\u001b[1;33m\u001b[0m\u001b[0m\n",
      "\u001b[1;31mNameError\u001b[0m: name 'c' is not defined"
     ]
    }
   ],
   "source": [
    "a, b = 2, 3\n",
    "c, b = a, c + 1\n",
    "print(a,b,c)"
   ]
  },
  {
   "cell_type": "code",
   "execution_count": 4,
   "id": "305d1a74",
   "metadata": {},
   "outputs": [
    {
     "name": "stdout",
     "output_type": "stream",
     "text": [
      "2\n",
      "9\n"
     ]
    }
   ],
   "source": [
    "x = 2\n",
    "def f(y):\n",
    "    x = y * y\n",
    "    return(x)\n",
    "a = f(3)\n",
    "print(x)\n",
    "print(a)"
   ]
  },
  {
   "cell_type": "code",
   "execution_count": 6,
   "id": "fc440553",
   "metadata": {},
   "outputs": [],
   "source": [
    "def istrcmp(x,y):\n",
    "    return(x.lower().strip() == y.lower().strip())"
   ]
  },
  {
   "cell_type": "code",
   "execution_count": 8,
   "id": "4c5fd4ef",
   "metadata": {},
   "outputs": [
    {
     "data": {
      "text/plain": [
       "True"
      ]
     },
     "execution_count": 8,
     "metadata": {},
     "output_type": "execute_result"
    }
   ],
   "source": [
    "istrcmp(\"Python\",\" PYthON\")"
   ]
  },
  {
   "cell_type": "code",
   "execution_count": 10,
   "id": "e409c42c",
   "metadata": {},
   "outputs": [
    {
     "name": "stdout",
     "output_type": "stream",
     "text": [
      "[2]\n",
      "[0, 1, [3]]\n"
     ]
    }
   ],
   "source": [
    "x = [0,1,[2]]\n",
    "print(x[2])\n",
    "x[2][0] = 3\n",
    "print(x)"
   ]
  },
  {
   "cell_type": "code",
   "execution_count": 11,
   "id": "f6f45fea",
   "metadata": {},
   "outputs": [],
   "source": [
    "x.reverse()"
   ]
  },
  {
   "cell_type": "code",
   "execution_count": 12,
   "id": "ffd98517",
   "metadata": {},
   "outputs": [
    {
     "data": {
      "text/plain": [
       "[[3], 1, 0]"
      ]
     },
     "execution_count": 12,
     "metadata": {},
     "output_type": "execute_result"
    }
   ],
   "source": [
    "x"
   ]
  },
  {
   "cell_type": "code",
   "execution_count": 14,
   "id": "9663c137",
   "metadata": {},
   "outputs": [
    {
     "data": {
      "text/plain": [
       "[1, 2, 3, 4]"
      ]
     },
     "execution_count": 14,
     "metadata": {},
     "output_type": "execute_result"
    }
   ],
   "source": [
    "x = [1,2,1,1,2,3,4]\n",
    "xnew = []\n",
    "for each in x:\n",
    "    if each not in xnew:\n",
    "        xnew.append(each)\n",
    "xnew"
   ]
  },
  {
   "cell_type": "code",
   "execution_count": 17,
   "id": "5d8b9c1b",
   "metadata": {},
   "outputs": [
    {
     "name": "stdout",
     "output_type": "stream",
     "text": [
      "1 3\n",
      "2 2\n",
      "3 1\n",
      "4 1\n",
      "[1, 2]\n"
     ]
    }
   ],
   "source": [
    "dup = []\n",
    "for each in xnew:\n",
    "    dupval = 0\n",
    "    for xval in x :\n",
    "        if xval == each:\n",
    "            dupval = dupval + 1\n",
    "    print(each,dupval)\n",
    "    if dupval > 1:\n",
    "        dup.append(each)\n",
    "print(dup)"
   ]
  },
  {
   "cell_type": "code",
   "execution_count": 23,
   "id": "74ad7498",
   "metadata": {},
   "outputs": [
    {
     "name": "stdout",
     "output_type": "stream",
     "text": [
      "0 3\n",
      "[1, 2, 3]\n",
      "3 6\n",
      "[4, 5, 6]\n",
      "6 9\n",
      "[7, 8, 9]\n"
     ]
    },
    {
     "data": {
      "text/plain": [
       "()"
      ]
     },
     "execution_count": 23,
     "metadata": {},
     "output_type": "execute_result"
    }
   ],
   "source": [
    "def group(x,y):\n",
    "    startindex = 0 \n",
    "    endindex = y \n",
    "    newlist =[]\n",
    "    while endindex <= len(x):\n",
    "        print(startindex,endindex)\n",
    "        print(x[startindex:endindex])\n",
    "        startindex = endindex \n",
    "        endindex = endindex + y\n",
    "    return()\n",
    "\n",
    "group([1,2,3,4,5,6,7,8,9,10],3)"
   ]
  },
  {
   "cell_type": "code",
   "execution_count": 33,
   "id": "9af1a3d9",
   "metadata": {},
   "outputs": [
    {
     "data": {
      "text/plain": [
       "['ok', 'why', 'hello', 'python', 'lensort']"
      ]
     },
     "execution_count": 33,
     "metadata": {},
     "output_type": "execute_result"
    }
   ],
   "source": [
    "x = ['python','lensort','hello','why','ok']\n",
    "def lensort(x):\n",
    "    lenkey = []\n",
    "    newlist = []\n",
    "    for index, each in enumerate(x):\n",
    "        lenkey.append([each,len(each),index])\n",
    "    lenkey.sort(key = lambda x: x[1])\n",
    "    for each in lenkey:\n",
    "        newlist.append(each[0])\n",
    "    return(newlist)\n",
    "lensort(x)"
   ]
  },
  {
   "cell_type": "code",
   "execution_count": null,
   "id": "6d35fc52",
   "metadata": {},
   "outputs": [],
   "source": []
  }
 ],
 "metadata": {
  "kernelspec": {
   "display_name": "Python 3 (ipykernel)",
   "language": "python",
   "name": "python3"
  },
  "language_info": {
   "codemirror_mode": {
    "name": "ipython",
    "version": 3
   },
   "file_extension": ".py",
   "mimetype": "text/x-python",
   "name": "python",
   "nbconvert_exporter": "python",
   "pygments_lexer": "ipython3",
   "version": "3.9.13"
  }
 },
 "nbformat": 4,
 "nbformat_minor": 5
}
