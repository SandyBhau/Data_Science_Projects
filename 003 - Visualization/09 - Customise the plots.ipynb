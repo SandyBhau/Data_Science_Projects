{
 "cells": [
  {
   "cell_type": "code",
   "execution_count": 1,
   "metadata": {},
   "outputs": [],
   "source": [
    "# ------------------------------------------------------------\n",
    "# Customise various elements of the plot for visual appeal.\n",
    "# ------------------------------------------------------------\n",
    "\n",
    "# import pyplot\n",
    "import matplotlib.pyplot as plt"
   ]
  },
  {
   "cell_type": "code",
   "execution_count": 2,
   "metadata": {},
   "outputs": [],
   "source": [
    "# Open the file in read mode and read lines\n",
    "f = open('salesdata2.csv','r')\n",
    "salefile = f.readlines()"
   ]
  },
  {
   "cell_type": "code",
   "execution_count": 3,
   "metadata": {},
   "outputs": [],
   "source": [
    "# Create the sales List\n",
    "sale_list = []\n",
    "s_list = []\n",
    "c_list = []"
   ]
  },
  {
   "cell_type": "code",
   "execution_count": 4,
   "metadata": {},
   "outputs": [],
   "source": [
    "# Append all the records from the file to the saleslist\n",
    "for records in salefile:\n",
    "    sale, cost = records.split(sep=',')\n",
    "    s_list.append(int(sale))\n",
    "    c_list.append(int(cost))"
   ]
  },
  {
   "cell_type": "code",
   "execution_count": 5,
   "metadata": {},
   "outputs": [],
   "source": [
    "   \n",
    "# Create list of lists\n",
    "sale_list.append(s_list)\n",
    "sale_list.append(c_list)"
   ]
  },
  {
   "cell_type": "code",
   "execution_count": 7,
   "metadata": {},
   "outputs": [
    {
     "data": {
      "image/png": "[encoded data removed]",
      "text/plain": [
       "<Figure size 432x288 with 5 Axes>"
      ]
     },
     "metadata": {
      "needs_background": "light"
     },
     "output_type": "display_data"
    }
   ],
   "source": [
    "# Scatter Plot\n",
    "plt.subplot(2,3,1)\n",
    "plt.title(\"Sales Vs Cost\")\n",
    "plt.xlabel(\"Sale\")\n",
    "plt.ylabel(\"Cost\")\n",
    "\n",
    "# Markers - o, s, ^, *, +, X, D\n",
    "# https://matplotlib.org/api/markers_api.html#module-matplotlib.markers\n",
    "\n",
    "# c - color options - b,g,r,c,m,y,k,w\n",
    "# c - color options - float in quotes for greyscale '0.80'\n",
    "# c - color options - HTML hex code such as '#FF5733'\n",
    "plt.scatter(s_list,c_list,         \\\n",
    "            marker='*',            \\\n",
    "            s=100, c='#FF5733')\n",
    "\n",
    "# Boxplot\n",
    "plt.subplot(2,3,2)\n",
    "plt.title(\"Box Plot of Sales\")\n",
    "plt.ylabel(\"USD\")\n",
    "plt.boxplot(sale_list,                                               \\\n",
    "            patch_artist=True,                                       \\\n",
    "            boxprops=dict(facecolor='g', color='r', linewidth=2),    \\\n",
    "            whiskerprops=dict(color='r', linewidth=2),               \\\n",
    "            medianprops=dict(color='w', linewidth=1),                \\\n",
    "            capprops=dict(color='k', linewidth=2),                   \\\n",
    "            flierprops=dict(markerfacecolor='r', marker='o', markersize=7))\n",
    "\n",
    "\n",
    "# Histogram of sales\n",
    "plt.subplot(2,3,3)\n",
    "plt.title(\"Histogram of Sales\")\n",
    "plt.ylabel(\"USD\")\n",
    "plt.hist(s_list, bins=5, rwidth=0.9, color='c')\n",
    "\n",
    "# lineplot of stock\n",
    "x_days  = [1,2,3,4,5]\n",
    "y_price1 = [9,9.5,10.1,10,12]\n",
    "\n",
    "plt.subplot(2,3,4)\n",
    "plt.title(\"Stockprice History\")\n",
    "plt.ylabel(\"Price\")\n",
    "plt.xlabel(\"Day\")\n",
    "plt.plot(x_days, y_price1, color='green', marker='o', markersize=10, linewidth=3, linestyle='--')\n",
    "\n",
    "# Bar Chart of temperature variation\n",
    "x_cities = ['NewYork', 'London', 'Dubai', 'New Delhi','Tokyo']\n",
    "y_temp = [75,65,105,98,90]\n",
    "\n",
    "plt.subplot(2,3,5)\n",
    "plt.title(\"Temperaure Variation\")\n",
    "plt.xlabel(\"Cities\")\n",
    "plt.ylabel(\"Temperature\")\n",
    "plt.xticks(rotation='45')\n",
    "plt.bar(x_cities,y_temp, color=['r','g', 'c', 'y', 'm'])\n",
    "\n",
    "# tight_layout to avoid overlap\n",
    "plt.tight_layout()\n",
    "\n",
    "# Save the figure as png picture\n",
    "#plt.savefig('images/01custom.png')\n",
    "\n",
    "# Show plots\n",
    "plt.show()"
   ]
  },
  {
   "cell_type": "code",
   "execution_count": null,
   "metadata": {},
   "outputs": [],
   "source": []
  }
 ],
 "metadata": {
  "anaconda-cloud": {},
  "kernelspec": {
   "display_name": "Python 3",
   "language": "python",
   "name": "python3"
  },
  "language_info": {
   "codemirror_mode": {
    "name": "ipython",
    "version": 3
   },
   "file_extension": ".py",
   "mimetype": "text/x-python",
   "name": "python",
   "nbconvert_exporter": "python",
   "pygments_lexer": "ipython3",
   "version": "3.7.3"
  }
 },
 "nbformat": 4,
 "nbformat_minor": 1
}
