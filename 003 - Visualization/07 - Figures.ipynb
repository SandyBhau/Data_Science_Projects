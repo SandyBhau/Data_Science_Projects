{
 "cells": [
  {
   "cell_type": "code",
   "execution_count": 1,
   "metadata": {},
   "outputs": [],
   "source": [
    "# -------------------------------------------------------------\n",
    "# Create separate plots in different figures\n",
    "# -------------------------------------------------------------\n",
    "\n",
    "# Import pyplot\n",
    "import matplotlib.pyplot as plt"
   ]
  },
  {
   "cell_type": "code",
   "execution_count": 2,
   "metadata": {},
   "outputs": [],
   "source": [
    "# Open the file in read mode and read lines\n",
    "f = open('salesdata2.csv','r')\n",
    "salefile = f.readlines()"
   ]
  },
  {
   "cell_type": "code",
   "execution_count": 3,
   "metadata": {},
   "outputs": [],
   "source": [
    "# Create the sales List\n",
    "sale_list = []\n",
    "s_list = []\n",
    "c_list = []"
   ]
  },
  {
   "cell_type": "code",
   "execution_count": 4,
   "metadata": {},
   "outputs": [],
   "source": [
    "# Append all the records from the file to the saleslist\n",
    "for records in salefile:\n",
    "    sale, cost = records.split(sep=',')\n",
    "    s_list.append(int(sale))\n",
    "    c_list.append(int(cost))"
   ]
  },
  {
   "cell_type": "code",
   "execution_count": 5,
   "metadata": {},
   "outputs": [],
   "source": [
    "    \n",
    "# Create a list of lists\n",
    "sale_list.append(s_list)\n",
    "sale_list.append(c_list)"
   ]
  },
  {
   "cell_type": "code",
   "execution_count": 6,
   "metadata": {},
   "outputs": [
    {
     "data": {
      "image/png": "[encoded data removed]",
      "text/plain": [
       "<Figure size 432x288 with 1 Axes>"
      ]
     },
     "metadata": {
      "needs_background": "light"
     },
     "output_type": "display_data"
    }
   ],
   "source": [
    "# Plot the Scatter Plot\n",
    "plt.figure('My Scatter Plot')\n",
    "plt.title(\"Sales Vs Cost\")\n",
    "plt.xlabel(\"Sale\")\n",
    "plt.ylabel(\"Cost\")\n",
    "plt.scatter(s_list,c_list)\n",
    "plt.savefig('01scatter.png')"
   ]
  },
  {
   "cell_type": "code",
   "execution_count": 7,
   "metadata": {},
   "outputs": [
    {
     "data": {
      "image/png": "[encoded data removed]",
      "text/plain": [
       "<Figure size 432x288 with 1 Axes>"
      ]
     },
     "metadata": {
      "needs_background": "light"
     },
     "output_type": "display_data"
    }
   ],
   "source": [
    "# Plot the Boxplot\n",
    "plt.figure('My Boxplot')\n",
    "plt.title(\"Box Plot of Sales\")\n",
    "plt.ylabel(\"USD\")\n",
    "plt.boxplot(sale_list)\n",
    "plt.savefig('01boxplot.png')\n",
    "\n",
    "# Show plots\n",
    "plt.show()"
   ]
  },
  {
   "cell_type": "code",
   "execution_count": null,
   "metadata": {},
   "outputs": [],
   "source": []
  }
 ],
 "metadata": {
  "anaconda-cloud": {},
  "kernelspec": {
   "display_name": "Python 3",
   "language": "python",
   "name": "python3"
  },
  "language_info": {
   "codemirror_mode": {
    "name": "ipython",
    "version": 3
   },
   "file_extension": ".py",
   "mimetype": "text/x-python",
   "name": "python",
   "nbconvert_exporter": "python",
   "pygments_lexer": "ipython3",
   "version": "3.7.3"
  }
 },
 "nbformat": 4,
 "nbformat_minor": 1
}
